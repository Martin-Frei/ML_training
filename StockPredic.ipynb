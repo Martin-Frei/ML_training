{
 "cells": [
  {
   "cell_type": "code",
   "execution_count": null,
   "metadata": {},
   "outputs": [],
   "source": [
    "import yfinance as yf\n",
    "import pandas as pd\n",
    "import seaborn as sns\n",
    "import numpy as np\n",
    "import matplotlib.pyplot as plt\n",
    "import xgboost as xgb\n",
    "import lightgbm as lgb\n",
    "\n",
    "from sklearn.model_selection import GridSearchCV, train_test_split\n",
    "from sklearn.ensemble import RandomForestRegressor\n",
    "from sklearn.metrics import mean_squared_error\n",
    "from sklearn.metrics import r2_score"
   ]
  },
  {
   "cell_type": "code",
   "execution_count": null,
   "metadata": {},
   "outputs": [],
   "source": [
    "def calculate_indicators(data):\n",
    "    \"\"\"Berechnet eine Vielzahl von Indikatoren.\"\"\"\n",
    "    # RSI\n",
    "    delta = data['Close'].diff()\n",
    "    gain = delta.where(delta > 0, 0).rolling(window=14).mean()\n",
    "    loss = -delta.where(delta < 0, 0).rolling(window=14).mean()\n",
    "    rs = gain / loss\n",
    "    data['RSI'] = 100 - (100 / (1 + rs))\n",
    "\n",
    "    # EMA\n",
    "    data['EMA9'] = data['Close'].ewm(span=9, adjust=False).mean()\n",
    "    # data['EMA14'] = data['Close'].ewm(span=14, adjust=False).mean()\n",
    "    data['EMA21'] = data['Close'].ewm(span=21, adjust=False).mean()\n",
    "\n",
    "    # Bollinger Bänder\n",
    "    sma20 = data['Close'].rolling(window=20).mean()\n",
    "    rolling_std = data['Close'].rolling(window=20).std()\n",
    "    data['Upper Band'] = sma20 + (2 * rolling_std)\n",
    "    data['Lower Band'] = sma20 - (2 * rolling_std)\n",
    "\n",
    "    # ATR\n",
    "    data['High-Low'] = data['High'] - data['Low']\n",
    "    data['High-PrevClose'] = abs(data['High'] - data['Close'].shift(1))\n",
    "    data['Low-PrevClose'] = abs(data['Low'] - data['Close'].shift(1))\n",
    "    data['TR'] = data[['High-Low', 'High-PrevClose', 'Low-PrevClose']].max(axis=1)\n",
    "    data['ATR'] = data['TR'].rolling(window=14).mean()\n",
    "\n",
    "    # VWAP\n",
    "    data['Typical_Price'] = (data['High'] + data['Low'] + data['Close']) / 3\n",
    "    data['Cum_TPxV'] = (data['Typical_Price'] * data['Volume']).cumsum()\n",
    "    data['Cum_Volume'] = data['Volume'].cumsum()\n",
    "    data['VWAP'] = data['Cum_TPxV'] / data['Cum_Volume']\n",
    "\n",
    "    # Stochastic Oscillator\n",
    "    low_min = data['Low'].rolling(window=14).min()\n",
    "    high_max = data['High'].rolling(window=14).max()\n",
    "    data['Stochastic'] = 100 * ((data['Close'] - low_min) / (high_max - low_min))\n",
    "\n",
    "    # MACD\n",
    "    short_ema = data['Close'].ewm(span=12, adjust=False).mean()\n",
    "    long_ema = data['Close'].ewm(span=26, adjust=False).mean()\n",
    "    data['MACD'] = short_ema - long_ema\n",
    "    data['Signal Line'] = data['MACD'].ewm(span=9, adjust=False).mean()\n",
    "\n",
    "    # Lag-Werte\n",
    "    for lag in range(1, 4):\n",
    "        data[f'Close_lag{lag}'] = data['Close'].shift(lag)\n",
    "\n",
    "    # Prozentuale Änderungen\n",
    "    data['Pct_Change'] = data['Close'].pct_change()\n",
    "\n",
    "    # Dropping NaN\n",
    "    return data.dropna()"
   ]
  },
  {
   "cell_type": "code",
   "execution_count": null,
   "metadata": {},
   "outputs": [],
   "source": [
    "\n",
    "data = calculate_indicators(data)\n",
    "data_clean = data.dropna()"
   ]
  }
 ],
 "metadata": {
  "language_info": {
   "name": "python"
  }
 },
 "nbformat": 4,
 "nbformat_minor": 2
}
