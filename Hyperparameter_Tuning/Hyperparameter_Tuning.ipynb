{
 "cells": [
  {
   "cell_type": "code",
   "execution_count": null,
   "id": "f4af89d4",
   "metadata": {},
   "outputs": [],
   "source": [
    "import numpy as np\n",
    "import pandas as pd\n",
    "from sklearn.model_selection import train_test_split, GridSearchCV\n",
    "from sklearn.tree import DecisionTreeClassifier\n",
    "from sklearn.metrics import classification_report\n",
    "\n",
    "# 1️⃣ Simulierter Datensatz\n",
    "data = {\n",
    "    'feature1': [2, 3, 5, 6, 8, 9, 10, 12, 14, 15],\n",
    "    'feature2': [1, 2, 1, 3, 2, 3, 4, 3, 5, 4],\n",
    "    'label':    [0, 0, 1, 0, 1, 1, 1, 1, 0, 0]\n",
    "}\n",
    "df = pd.DataFrame(data)\n",
    "\n",
    "# 2️⃣ Features und Labels trennen\n",
    "X = df[['feature1', 'feature2']]\n",
    "y = df['label']\n",
    "\n",
    "# 3️⃣ Train-Test-Split\n",
    "X_train, X_test, y_train, y_test = train_test_split(X, y, test_size=0.3, random_state=42)\n",
    "\n",
    "# 4️⃣ Modell und Parameter-Raum definieren\n",
    "clf = DecisionTreeClassifier(random_state=42)\n",
    "\n",
    "param_grid = {\n",
    "    'max_depth': [2, 3, 4, 5],\n",
    "    'min_samples_split': [2, 3, 4],\n",
    "    'criterion': ['gini', 'entropy']\n",
    "}\n",
    "\n",
    "# 5️⃣ GridSearchCV Setup\n",
    "grid_search = GridSearchCV(estimator=clf,\n",
    "                           param_grid=param_grid,\n",
    "                           scoring='accuracy',\n",
    "                           cv=3,  # 3-fold Cross-Validation\n",
    "                           verbose=1)\n",
    "\n",
    "# 6️⃣ Training\n",
    "grid_search.fit(X_train, y_train)\n",
    "\n",
    "# 7️⃣ Beste Parameter und Score\n",
    "print(\"Beste Parameterkombination:\", grid_search.best_params_)\n",
    "print(\"Beste Genauigkeit:\", grid_search.best_score_)\n",
    "\n",
    "# 8️⃣ Evaluierung auf dem Testset\n",
    "best_model = grid_search.best_estimator_\n",
    "y_pred = best_model.predict(X_test)\n",
    "print(\"\\nClassification Report:\")\n",
    "print(classification_report(y_test, y_pred))\n"
   ]
  }
 ],
 "metadata": {
  "language_info": {
   "name": "python"
  }
 },
 "nbformat": 4,
 "nbformat_minor": 5
}
