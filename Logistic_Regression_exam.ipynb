{
 "cells": [
  {
   "cell_type": "code",
   "execution_count": 1,
   "id": "6158249b",
   "metadata": {},
   "outputs": [
    {
     "name": "stdout",
     "output_type": "stream",
     "text": [
      "Accuracy: 0.00%\n",
      "[[5.24474553e-12 9.36946671e-06 3.10990759e-02 9.61497284e-01\n",
      "  7.39427044e-03]\n",
      " [1.17211758e-03 9.16749321e-01 8.20598155e-02 1.87461795e-05\n",
      "  8.75766185e-14]\n",
      " [6.11350579e-01 3.88647244e-01 2.17678267e-06 9.45567270e-15\n",
      "  8.43361391e-29]\n",
      " [1.30926538e-27 2.87761234e-18 1.52645975e-10 2.48193733e-04\n",
      "  9.99751806e-01]\n",
      " [9.79282356e-01 2.07176427e-02 1.13285061e-09 2.71785279e-20\n",
      "  4.45963785e-37]\n",
      " [1.16917137e-01 8.82939539e-01 1.43324126e-04 2.73055249e-11\n",
      "  2.37598017e-23]]\n"
     ]
    },
    {
     "name": "stderr",
     "output_type": "stream",
     "text": [
      "C:\\Users\\Martin\\AppData\\Local\\Packages\\PythonSoftwareFoundation.Python.3.11_qbz5n2kfra8p0\\LocalCache\\local-packages\\Python311\\site-packages\\sklearn\\base.py:493: UserWarning: X does not have valid feature names, but LogisticRegression was fitted with feature names\n",
      "  warnings.warn(\n"
     ]
    }
   ],
   "source": [
    "# Import necessary libraries\n",
    "import numpy as np\n",
    "import pandas as pd\n",
    "from sklearn.model_selection import train_test_split\n",
    "from sklearn.linear_model import LogisticRegression\n",
    "from sklearn.metrics import accuracy_score\n",
    "\n",
    "# Dataset: Study Hours and Exam Result\n",
    "data = {'exam_result': [98, 85, 77, 55, 45, 30, 52, 65, 80, 35],\n",
    "        'grade': [1, 2, 3, 4, 5 , 6, 4, 3, 2, 5 , ]}\n",
    "\n",
    "# Convert to DataFrame\n",
    "df = pd.DataFrame(data)\n",
    "\n",
    "# Split the data into features (X) and target (y)\n",
    "X = df[['exam_result']]  # Independent variable\n",
    "y = df['grade']    # Dependent variable\n",
    "\n",
    "# Split the dataset into training and testing sets\n",
    "X_train, X_test, y_train, y_test = train_test_split(X, y, test_size=0.2, random_state=42)\n",
    "\n",
    "# Create the logistic regression model\n",
    "model = LogisticRegression()\n",
    "\n",
    "# Train the model\n",
    "model.fit(X_train, y_train)\n",
    "\n",
    "# Make predictions\n",
    "y_pred = model.predict(X_test)\n",
    "\n",
    "# Calculate the accuracy of the model\n",
    "accuracy = accuracy_score(y_test, y_pred)\n",
    "print(f'Accuracy: {accuracy * 100:.2f}%')\n",
    "\n",
    "# Predict the probability of passing based on the number of study hours\n",
    "exam_result1 = np.array([[41], [66], [89], [18], [100], [81]])  # Example input\n",
    "predictions = model.predict_proba(exam_result1)\n",
    "print(predictions)\n"
   ]
  },
  {
   "cell_type": "code",
   "execution_count": 4,
   "id": "f14b699e",
   "metadata": {},
   "outputs": [
    {
     "data": {
      "image/png": "[encoded data removed]",
      "text/plain": [
       "<Figure size 576x432 with 1 Axes>"
      ]
     },
     "metadata": {
      "needs_background": "light"
     },
     "output_type": "display_data"
    }
   ],
   "source": [
    "import numpy as np\n",
    "import matplotlib.pyplot as plt\n",
    "from sklearn.linear_model import LogisticRegression\n",
    "\n",
    "# Data\n",
    "Credit_score = np.array ([15, 78, 45, 22, 60, 21, 8,89]).reshape(-1, 1)\n",
    "loan_approval = np.array([0, 1, 0, 0, 1, 0, 0,1])\n",
    "\n",
    "# Create and train the logistic regression model\n",
    "model = LogisticRegression()\n",
    "model.fit(Credit_score, loan_approval)\n",
    "\n",
    "# Generate study hours for visualization (range from 0 to 10)\n",
    "X_vis = np.linspace(0, 10, 100).reshape(-1, 1)\n",
    "y_prob = model.predict_proba(X_vis)[:, 1]  # Probability of passing (y=1)\n",
    "\n",
    "# Plot the sigmoid curve\n",
    "plt.figure(figsize=(8, 6))\n",
    "plt.plot(X_vis, y_prob, color='blue', linewidth=2)\n",
    "plt.scatter(Credit_score,loan_approval, color='red', marker='o')\n",
    "plt.title('Logistic Regression: Probability of Passing vs. Study Hours')\n",
    "plt.xlabel('Credit_score')\n",
    "plt.ylabel('loan_approval')\n",
    "plt.grid(True)\n",
    "plt.show()\n"
   ]
  },
  {
   "cell_type": "code",
   "execution_count": null,
   "id": "846240ae",
   "metadata": {},
   "outputs": [],
   "source": []
  }
 ],
 "metadata": {
  "kernelspec": {
   "display_name": "Python 3",
   "language": "python",
   "name": "python3"
  },
  "language_info": {
   "codemirror_mode": {
    "name": "ipython",
    "version": 3
   },
   "file_extension": ".py",
   "mimetype": "text/x-python",
   "name": "python",
   "nbconvert_exporter": "python",
   "pygments_lexer": "ipython3",
   "version": "3.11.9"
  }
 },
 "nbformat": 4,
 "nbformat_minor": 5
}
