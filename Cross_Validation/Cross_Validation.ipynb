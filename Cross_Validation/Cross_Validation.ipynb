{
 "cells": [
  {
   "cell_type": "code",
   "execution_count": null,
   "id": "4ce1a1af",
   "metadata": {},
   "outputs": [],
   "source": [
    "import numpy as np\n",
    "import pandas as pd\n",
    "from sklearn.model_selection import train_test_split\n",
    "from sklearn.tree import DecisionTreeClassifier\n",
    "from sklearn.metrics import confusion_matrix, classification_report\n",
    "import seaborn as sns\n",
    "import matplotlib.pyplot as plt\n",
    "\n",
    "# 1️⃣ Beispiel-Datensatz (simuliert)\n",
    "data = {\n",
    "    'feature1': [2, 3, 5, 6, 8, 9, 10, 12, 14, 15],\n",
    "    'feature2': [1, 2, 1, 3, 2, 3, 4, 3, 5, 4],\n",
    "    'label':    [0, 0, 1, 0, 1, 1, 1, 1, 0, 0]\n",
    "}\n",
    "df = pd.DataFrame(data)\n",
    "\n",
    "# 2️⃣ Features und Label trennen\n",
    "X = df[['feature1', 'feature2']]\n",
    "y = df['label']\n",
    "\n",
    "# 3️⃣ Train-Test-Split\n",
    "X_train, X_test, y_train, y_test = train_test_split(X, y, test_size=0.3, random_state=42)\n",
    "\n",
    "# 4️⃣ Modell trainieren\n",
    "clf = DecisionTreeClassifier(random_state=42)\n",
    "clf.fit(X_train, y_train)\n",
    "\n",
    "# 5️⃣ Vorhersagen machen\n",
    "y_pred = clf.predict(X_test)\n",
    "\n",
    "# 6️⃣ Confusion Matrix berechnen\n",
    "cm = confusion_matrix(y_test, y_pred)\n",
    "\n",
    "# 7️⃣ Ausgabe\n",
    "print(\"Confusion Matrix:\")\n",
    "print(cm)\n",
    "print(\"\\nClassification Report:\")\n",
    "print(classification_report(y_test, y_pred))\n",
    "\n",
    "# 8️⃣ Visualisierung (optional)\n",
    "sns.heatmap(cm, annot=True, fmt='d', cmap='Blues', xticklabels=[0,1], yticklabels=[0,1])\n",
    "plt.xlabel('Predicted')\n",
    "plt.ylabel('Actual')\n",
    "plt.title('Confusion Matrix')\n",
    "plt.show()\n"
   ]
  }
 ],
 "metadata": {
  "language_info": {
   "name": "python"
  }
 },
 "nbformat": 4,
 "nbformat_minor": 5
}
