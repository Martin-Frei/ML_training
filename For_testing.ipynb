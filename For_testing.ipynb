{
 "cells": [
  {
   "cell_type": "code",
   "execution_count": 12,
   "metadata": {},
   "outputs": [
    {
     "name": "stderr",
     "output_type": "stream",
     "text": [
      "[*********************100%***********************]  1 of 1 completed\n",
      "[*********************100%***********************]  1 of 1 completed\n",
      "[*********************100%***********************]  1 of 1 completed"
     ]
    },
    {
     "name": "stdout",
     "output_type": "stream",
     "text": [
      "Abrufe Daten für AAPL von 2023-03-01 bis 2024-12-31 mit Intervall 1h...\n",
      "⚠️ Fehler für AAPL: 'Date'\n",
      "Abrufe Daten für MSFT von 2023-03-01 bis 2024-12-31 mit Intervall 1h...\n",
      "⚠️ Fehler für MSFT: 'Date'\n",
      "Abrufe Daten für GOOGL von 2023-03-01 bis 2024-12-31 mit Intervall 1h...\n"
     ]
    },
    {
     "name": "stderr",
     "output_type": "stream",
     "text": [
      "\n",
      "[*********************100%***********************]  1 of 1 completed"
     ]
    },
    {
     "name": "stdout",
     "output_type": "stream",
     "text": [
      "⚠️ Fehler für GOOGL: 'Date'\n",
      "Abrufe Daten für META von 2023-03-01 bis 2024-12-31 mit Intervall 1h...\n",
      "⚠️ Fehler für META: 'Date'\n"
     ]
    },
    {
     "name": "stderr",
     "output_type": "stream",
     "text": [
      "\n"
     ]
    }
   ],
   "source": [
    "import pandas as pd\n",
    "import yfinance as yf\n",
    "import os\n",
    "import pytz\n",
    "\n",
    "# New York Zeitzone\n",
    "NY_TZ = pytz.timezone(\"America/New_York\")\n",
    "\n",
    "def calculate_indicators(data):\n",
    "    \"\"\"Berechnet eine Vielzahl von Indikatoren.\"\"\"\n",
    "    \n",
    "    # Sicherstellen, dass alle Werte numerisch sind\n",
    "    cols_to_fix = ['High', 'Low', 'Close', 'Volume']\n",
    "    for col in cols_to_fix:\n",
    "        data[col] = pd.to_numeric(data[col], errors='coerce')\n",
    "\n",
    "    # Fehlende Werte durch 0 ersetzen\n",
    "    data.fillna({'High': 0, 'Low': 0, 'Close': 0, 'Volume': 0}, inplace=True)\n",
    "\n",
    "    # **VWAP Berechnung**\n",
    "    data['Typical_Price'] = (data['High'] + data['Low'] + data['Close']) / 3\n",
    "    data['Typical_Price'] = data['Typical_Price'].fillna(0)\n",
    "    data['Volume'] = data['Volume'].fillna(0)\n",
    "\n",
    "    data['Cum_TPxV'] = (data['Typical_Price'] * data['Volume']).cumsum()\n",
    "    data['Cum_Volume'] = data['Volume'].cumsum()\n",
    "\n",
    "    # Schutz gegen Division durch Null\n",
    "    data['VWAP'] = data['Cum_TPxV'] / data['Cum_Volume']\n",
    "    data.loc[data['Cum_Volume'] == 0, 'VWAP'] = None \n",
    "\n",
    "    #  Debug-Ausgabe für VWAP\n",
    "    print(\" VWAP Debug-Daten:\")\n",
    "    print(data[['Typical_Price', 'Volume', 'Cum_TPxV', 'Cum_Volume', 'VWAP']].head(20))\n",
    "    \n",
    "    return data\n",
    "\n",
    "def fetch_and_save_stock_data(ticker, start_date, end_date, interval, save_path):\n",
    "    \"\"\"\n",
    "    Lädt Aktienkursdaten und speichert sie als CSV.\n",
    "\n",
    "    Args:\n",
    "        ticker (str): Aktien-Ticker (z.B. 'AAPL').\n",
    "        start_date (str): Startdatum ('YYYY-MM-DD').\n",
    "        end_date (str): Enddatum ('YYYY-MM-DD').\n",
    "        interval (str): Intervall ('1h', '1d', etc.).\n",
    "        save_path (str): Speicherpfad.\n",
    "    \"\"\"\n",
    "    \n",
    "    try:\n",
    "        print(f\"Abrufe Daten für {ticker} von {start_date} bis {end_date} mit Intervall {interval}...\")\n",
    "\n",
    "        # Daten abrufen\n",
    "        data = yf.download(ticker, start=start_date, end=end_date, interval=interval)\n",
    "\n",
    "        if data.empty:\n",
    "            print(f\"❌ Keine Daten für {ticker} gefunden.\")\n",
    "            return\n",
    "\n",
    "        # Index in Spalte 'Date' umwandeln *bevor* Zeitzonenkonvertierung\n",
    "        data = data.reset_index()\n",
    "\n",
    "        # Datetime Spalte erstellen und in New York Zeit konvertieren\n",
    "        data['Datetime'] = pd.to_datetime(data['Date'], utc=True).dt.tz_convert(NY_TZ)\n",
    "\n",
    "        # Indikatoren berechnen\n",
    "        data = calculate_indicators(data)\n",
    "\n",
    "        # Speichern als CSV\n",
    "        os.makedirs(save_path, exist_ok=True)\n",
    "        file_name = f\"{ticker}.csv\"\n",
    "        file_path = os.path.join(save_path, file_name)\n",
    "\n",
    "        # Datei überschreiben (keine Erweiterung)\n",
    "        data.to_csv(file_path, index=False)\n",
    "        print(f\"✅ Datei gespeichert: {file_path}\")\n",
    "\n",
    "    except Exception as e:\n",
    "        print(f\"⚠️ Fehler für {ticker}: {e}\")\n",
    "def main():\n",
    "    # Aktienliste & Parameter\n",
    "    stocks = ['AAPL', 'MSFT', 'GOOGL', 'META']\n",
    "    start_date = '2023-03-01'\n",
    "    end_date = '2024-12-31'\n",
    "    interval = '1h'\n",
    "    save_path = \"C:/Users/Martin/Documents/StockData\"  # Passe den Pfad an!\n",
    "\n",
    "    # Daten abrufen & speichern\n",
    "    for stock in stocks:\n",
    "        fetch_and_save_stock_data(stock, start_date, end_date, interval, save_path)\n",
    "        \n",
    "\n",
    "if __name__ == \"__main__\":\n",
    "    main()"
   ]
  }
 ],
 "metadata": {
  "kernelspec": {
   "display_name": "Python 3",
   "language": "python",
   "name": "python3"
  },
  "language_info": {
   "codemirror_mode": {
    "name": "ipython",
    "version": 3
   },
   "file_extension": ".py",
   "mimetype": "text/x-python",
   "name": "python",
   "nbconvert_exporter": "python",
   "pygments_lexer": "ipython3",
   "version": "3.11.9"
  }
 },
 "nbformat": 4,
 "nbformat_minor": 2
}
