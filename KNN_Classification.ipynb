{
 "cells": [
  {
   "cell_type": "code",
   "execution_count": null,
   "id": "cb09bf51",
   "metadata": {},
   "outputs": [
    {
     "name": "stdout",
     "output_type": "stream",
     "text": [
      "The predicted Yes = 0 or No = 1 is: 0\n",
      "🔢 Distanzen zu Testpunkt:\n",
      "  Punkt 0 ([100  50] → 0): Distanz = 14.87\n",
      "  Punkt 1 ([80 30] → 0): Distanz = 31.32\n",
      "  Punkt 2 ([150  66] → 1): Distanz = 48.26\n",
      "  Punkt 3 ([60 20] → 1): Distanz = 53.49\n",
      "  Punkt 4 ([120  49] → 0): Distanz = 14.14\n",
      "  Punkt 5 ([130  56] → 1): Distanz = 26.25\n"
     ]
    }
   ],
   "source": [
    "from sklearn.neighbors import KNeighborsClassifier\n",
    "import numpy as np\n",
    "from sklearn.metrics import pairwise_distances\n",
    "\n",
    "# S# 1️⃣ Trainingsdaten (Mileage, Age, NewPrice)\n",
    "X_train = np.array([\n",
    "    [100, 50],\n",
    "    [80, 30],\n",
    "    [150, 66],\n",
    "    [60, 20],\n",
    "    [120, 49],\n",
    "    [130, 56]\n",
    "])\n",
    "\n",
    "y_train = ['0', '0', '1', '1', '0', '1']\n",
    "\n",
    "# Step 2: New Features\n",
    "X_test = np.array([[110, 39]])\n",
    "\n",
    "# Step 3: Create KNN Model (let's use k=3)\n",
    "knn = KNeighborsClassifier(n_neighbors=3)\n",
    "#\n",
    "\n",
    "# Step 4: Train the Model\n",
    "knn.fit(X_train, y_train)\n",
    "\n",
    "# Step 5: Make Prediction\n",
    "prediction = knn.predict(X_test)\n",
    "\n",
    "# Step 6: Output\n",
    "print(f\"The predicted Yes = 0 or No = 1 is: {prediction[0]}\")\n",
    "\n",
    "dists = pairwise_distances(X_train, X_test, metric='euclidean').flatten()\n",
    "print(\"🔢 Distanzen zu Testpunkt:\")\n",
    "for i, dist in enumerate(dists):\n",
    "    print(f\"  Punkt {i} ({X_train[i]} → {y_train[i]}): Distanz = {dist:.2f}\")\n",
    "    \n",
    "    #[[110, 39]])"
   ]
  }
 ],
 "metadata": {
  "kernelspec": {
   "display_name": "Python 3",
   "language": "python",
   "name": "python3"
  },
  "language_info": {
   "codemirror_mode": {
    "name": "ipython",
    "version": 3
   },
   "file_extension": ".py",
   "mimetype": "text/x-python",
   "name": "python",
   "nbconvert_exporter": "python",
   "pygments_lexer": "ipython3",
   "version": "3.11.9"
  }
 },
 "nbformat": 4,
 "nbformat_minor": 5
}
